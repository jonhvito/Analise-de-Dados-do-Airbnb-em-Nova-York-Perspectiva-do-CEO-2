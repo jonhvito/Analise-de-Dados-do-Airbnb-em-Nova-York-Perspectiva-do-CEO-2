{
  "cells": [
    {
      "cell_type": "markdown",
      "source": [
        "#**Esse projeto simula uma demananda da empresa Airbnb**\n",
        "\n",
        "---\n",
        "\n",
        "**As novas perguntas do CEO**\n",
        "\n",
        "1. Quais são as categorias de imóveis que estão cadastradas dentro da base\n",
        "de dados da cidade de Nova York?\n",
        "2. Quantos usuários (Hosts) únicos cadastrados existem dentro da base de\n",
        "dados da cidade de Nova York?\n",
        "3. Como é a variação do preços dos imóveis em NY?\n",
        "4. Existem mais imóveis baratos ou caros?\n",
        "5. Qual a distribuição do número de Reviews? Existem imóveis com muitos e\n",
        "outro com poucos reviews?\n",
        "\n",
        "---\n",
        "\n"
      ],
      "metadata": {
        "id": "jGFDSK_WkOZr"
      }
    },
    {
      "cell_type": "markdown",
      "source": [
        "# Importações\n",
        "\n",
        "---"
      ],
      "metadata": {
        "id": "E-XW5DkykJZs"
      }
    },
    {
      "cell_type": "code",
      "execution_count": null,
      "metadata": {
        "colab": {
          "base_uri": "https://localhost:8080/"
        },
        "id": "L5jbnd_4IAEQ",
        "outputId": "21ad82dc-2559-4a1d-a80b-72198a7bcf0d"
      },
      "outputs": [
        {
          "output_type": "stream",
          "name": "stdout",
          "text": [
            "Drive already mounted at /content/drive; to attempt to forcibly remount, call drive.mount(\"/content/drive\", force_remount=True).\n"
          ]
        }
      ],
      "source": [
        "\n",
        "##**O ARQUIVO CSV É DE SUMA IMPORTÂNCIA, ALTERE O CAMINHO DO ARQUIVO DE ACORDO COM O AMBIENTE DE EXECUÇÃO**##\n",
        "\n",
        "import pandas as pd\n",
        "import numpy as np\n",
        "from google.colab import drive\n",
        "from matplotlib import pyplot as plt\n",
        "\n",
        "drive.mount('/content/drive')\n",
        "\n",
        "#altere o caminho de acordo com seu ambiente de execução\n",
        "arquivo_dados = '/content/drive/My Drive/python data science/AB_NYC_2019.csv'\n",
        "\n",
        "#cria um DataFrame com o arquivo\n",
        "data = pd.read_csv(arquivo_dados)"
      ]
    },
    {
      "cell_type": "markdown",
      "source": [
        "\n",
        "\n",
        "---\n",
        "\n",
        "# **Tasks**\n",
        "\n",
        "---\n",
        "\n"
      ],
      "metadata": {
        "id": "uUfsLzY3GUM6"
      }
    },
    {
      "cell_type": "markdown",
      "source": [
        "## Primeira Task"
      ],
      "metadata": {
        "id": "WpLcO5YfEAcK"
      }
    },
    {
      "cell_type": "code",
      "execution_count": null,
      "metadata": {
        "id": "Q3tXjihkJeNo"
      },
      "outputs": [],
      "source": [
        "## primeira questao\n",
        "\n",
        "# armazenei o nome da coluna em uma variavel para melhor vizualização\n",
        "coluna = 'room_type'\n",
        "\n",
        "# seleção de colunas e linhas\n",
        "room_type = data.loc[:, coluna]\n",
        "\n",
        "#separação dos valores unicos\n",
        "categorias = np.unique(room_type)\n",
        "\n",
        "# Cria uma lista para armazenar a saída formatada\n",
        "saida_formatada = []\n",
        "\n",
        "# Adiciona a primeira linha à lista\n",
        "saida_formatada.append(\"Categorias de imóveis que estão cadastradas:\")\n",
        "\n",
        "# Adiciona cada categoria à lista, juntamente com o número de entradas para essa categoria\n",
        "for categoria in categorias:\n",
        "    num_entradas = sum(room_type == categoria)\n",
        "    saida_formatada.append(f\"- {categoria}: {num_entradas} entradas\")\n",
        "\n",
        "\n",
        "\n",
        "\n",
        "resp_1 = saida_formatada"
      ]
    },
    {
      "cell_type": "markdown",
      "source": [
        "## Segunda Task"
      ],
      "metadata": {
        "id": "z1H9vTlWpVz7"
      }
    },
    {
      "cell_type": "code",
      "execution_count": null,
      "metadata": {
        "id": "w4pq4cq3Knhw"
      },
      "outputs": [],
      "source": [
        "# armazenei o nome da coluna em uma variavel para melhor vizualização\n",
        "coluna = 'host_id'\n",
        "\n",
        "# seleção de colunas e linhas\n",
        "host_id = data.loc[:, coluna]\n",
        "\n",
        "#separação dos valores unicos\n",
        "host_id_unique = np.unique( host_id )\n",
        "\n",
        "#contagem dos valores unicos\n",
        "usuarios_unicos = len( host_id_unique)\n",
        "\n",
        "resultado_formatado = \"{:,}\".format(usuarios_unicos).replace(\",\", \".\")\n",
        "\n",
        "resp_2 = f'{resultado_formatado} hosts únicos cadastrados dentro da base de dados.'"
      ]
    },
    {
      "cell_type": "markdown",
      "source": [
        "## Terceira Task"
      ],
      "metadata": {
        "id": "8RIOxQy9pYNx"
      }
    },
    {
      "cell_type": "code",
      "execution_count": null,
      "metadata": {
        "id": "cZjyO9sjNJtq"
      },
      "outputs": [],
      "source": [
        "# armazenei o nome da coluna em uma variavel para melhor vizualização\n",
        "coluna = 'price'\n",
        "\n",
        "# seleção de colunas e linhas\n",
        "price = data.loc[:, coluna]\n",
        "\n",
        "# aplicação do operador matematico do desvio padrão\n",
        "media = np.mean( price )\n",
        "variacao = np.std( price )\n",
        "\n",
        "\n",
        "\n",
        "resp_3 = f'A variação média dos preços é média de U${media:.2f} com desvio padrão de U${variacao:.2f}'\n"
      ]
    },
    {
      "cell_type": "markdown",
      "source": [
        "## Quarta Task"
      ],
      "metadata": {
        "id": "4v3GIdONpbD7"
      }
    },
    {
      "cell_type": "code",
      "execution_count": null,
      "metadata": {
        "id": "8c3BiPtYORsy"
      },
      "outputs": [],
      "source": [
        "def resp4(data):\n",
        "  # armazenei o nome da coluna em uma variavel para melhor vizualização\n",
        "  coluna = 'price'\n",
        "\n",
        "  # seleção de colunas e linhas\n",
        "  linhas = data.loc[:, coluna] < 1100\n",
        "  price = data.loc[linhas, coluna]\n",
        "\n",
        "\n",
        "  # desenhar o histograma\n",
        "  barato_caro = plt.hist( price, bins=11);\n",
        "\n",
        "  resp_4 = print(f'\\nExistem mais de 2.000 imóveis com o valor de aluguel até U$ 100 \\\n",
        "  dólares. \\nOu seja, existe uma concentração de imóveis nos valores baixos de \\\n",
        "  aluguel \\nque caracteriza a maioria como sendo imóveis mais baratos. \\n\\nVeja o \\\n",
        "  histograma abaixo:\\n') ,barato_caro;"
      ]
    },
    {
      "cell_type": "markdown",
      "source": [
        "## Quinta Task"
      ],
      "metadata": {
        "id": "nt-lGoQrpeDP"
      }
    },
    {
      "cell_type": "code",
      "source": [
        "def resp5(data):\n",
        "    print('Existem quase 30.000 imóveis com até 10 avaliações. \\nOu seja, existem muitos imóveis com poucas avaliações.\\\n",
        "    \\n\\nVeja o histograma abaixo\\n')\n",
        "    coluna = 'number_of_reviews'\n",
        "\n",
        "    # seleção de colunas e linhas\n",
        "    linhas = data.loc[:, coluna] < 300\n",
        "    reviews = data.loc[linhas, coluna]\n",
        "\n",
        "\n",
        "    # desenhar o histograma\n",
        "    num_reviews = plt.hist( reviews, bins=30 );\n",
        "\n"
      ],
      "metadata": {
        "id": "Cs3S0Do22jLo"
      },
      "execution_count": null,
      "outputs": []
    },
    {
      "cell_type": "markdown",
      "source": [
        "\n",
        "\n",
        "---\n",
        "\n",
        "\n",
        "\n",
        "---\n",
        "\n"
      ],
      "metadata": {
        "id": "5COZ8Ytp8gZf"
      }
    },
    {
      "cell_type": "markdown",
      "source": [
        "\n",
        "\n",
        "---\n",
        "\n",
        "\n",
        "\n",
        "---\n",
        "\n"
      ],
      "metadata": {
        "id": "2NA-MMur8ggF"
      }
    },
    {
      "cell_type": "markdown",
      "source": [
        "\n",
        "\n",
        "---\n",
        "\n",
        "\n",
        "\n",
        "---\n",
        "\n"
      ],
      "metadata": {
        "id": "53xcPZS-8gmY"
      }
    },
    {
      "cell_type": "markdown",
      "source": [
        "\n",
        "\n",
        "---\n",
        "\n",
        "\n",
        "\n",
        "---\n",
        "\n"
      ],
      "metadata": {
        "id": "aCGPNj8l8gwV"
      }
    },
    {
      "cell_type": "markdown",
      "source": [
        "\n",
        "\n",
        "---\n",
        "\n",
        "# **E-mail com as respostas**\n",
        "\n",
        "\n",
        "---\n",
        "\n",
        "\n",
        "Olá CEO, espero que esse e-mail o encontre bem.\n",
        "Meu nome é João victor, sou Cientista de Dados do time de expansão.\n",
        "Segue abaixo as respostas das novas perguntas de negócio solicitadas,\n",
        "Referente a expansão de Nova York.\n",
        "---\n",
        "\n"
      ],
      "metadata": {
        "id": "AoLPvFzw38sx"
      }
    },
    {
      "cell_type": "code",
      "source": [
        "# 1. Quais são as categorias de imóveis que estão cadastradas dentro da base de dados da cidade de Nova York?\n",
        "resp_1"
      ],
      "metadata": {
        "colab": {
          "base_uri": "https://localhost:8080/"
        },
        "id": "Yz0t8tzD37dz",
        "outputId": "f2a3f64f-a2a6-4672-f506-d535dc827575"
      },
      "execution_count": null,
      "outputs": [
        {
          "output_type": "execute_result",
          "data": {
            "text/plain": [
              "['Categorias de imóveis que estão cadastradas:',\n",
              " '- Entire home/apt: 25409 entradas',\n",
              " '- Private room: 22326 entradas',\n",
              " '- Shared room: 1160 entradas']"
            ]
          },
          "metadata": {},
          "execution_count": 203
        }
      ]
    },
    {
      "cell_type": "code",
      "source": [
        "#  2. Quantos usuários (Hosts) únicos cadastrados existem dentro da base dedados da cidade de Nova York?\n",
        "resp_2"
      ],
      "metadata": {
        "colab": {
          "base_uri": "https://localhost:8080/",
          "height": 35
        },
        "id": "cXnULhnK4pD8",
        "outputId": "ecc36bd2-b542-462c-f81b-5c5bc13d98d3"
      },
      "execution_count": null,
      "outputs": [
        {
          "output_type": "execute_result",
          "data": {
            "text/plain": [
              "'37.457 hosts únicos cadastrados dentro da base de dados.'"
            ],
            "application/vnd.google.colaboratory.intrinsic+json": {
              "type": "string"
            }
          },
          "metadata": {},
          "execution_count": 222
        }
      ]
    },
    {
      "cell_type": "code",
      "source": [
        "# 3. Como é a variação do preços dos imóveis em NY?\n",
        "resp_3"
      ],
      "metadata": {
        "colab": {
          "base_uri": "https://localhost:8080/",
          "height": 35
        },
        "id": "fZ0iUut65106",
        "outputId": "d8ae2662-6cca-45f5-e4c2-744230a94eef"
      },
      "execution_count": null,
      "outputs": [
        {
          "output_type": "execute_result",
          "data": {
            "text/plain": [
              "'A variação média dos preços é média de U$152.72 com desvio padrão de U$240.15'"
            ],
            "application/vnd.google.colaboratory.intrinsic+json": {
              "type": "string"
            }
          },
          "metadata": {},
          "execution_count": 232
        }
      ]
    },
    {
      "cell_type": "code",
      "source": [
        "# 4. Existem mais imóveis baratos ou caros?\n",
        "resp4(data)"
      ],
      "metadata": {
        "colab": {
          "base_uri": "https://localhost:8080/",
          "height": 559
        },
        "id": "hCB0AywW6eCr",
        "outputId": "ce627a9b-a8fb-48cc-e62a-9b94eff58410"
      },
      "execution_count": null,
      "outputs": [
        {
          "output_type": "stream",
          "name": "stdout",
          "text": [
            "\n",
            "Existem mais de 2.000 imóveis com o valor de aluguel até U$ 100   dólares. \n",
            "Ou seja, existe uma concentração de imóveis nos valores baixos de   aluguel \n",
            "que caracteriza a maioria como sendo imóveis mais baratos. \n",
            "\n",
            "Veja o   histograma abaixo:\n",
            "\n"
          ]
        },
        {
          "output_type": "display_data",
          "data": {
            "text/plain": [
              "<Figure size 640x480 with 1 Axes>"
            ],
            "image/png": "[encoded data removed]"
          },
          "metadata": {}
        }
      ]
    },
    {
      "cell_type": "code",
      "source": [
        "# 5. Qual a distribuição do número de Reviews? Existem imóveis com muitos e outro com poucos reviews?\n",
        "resp5(data)"
      ],
      "metadata": {
        "colab": {
          "base_uri": "https://localhost:8080/",
          "height": 522
        },
        "id": "N7uHECjt7Bx_",
        "outputId": "e7249f7f-0249-47a4-cc7b-c3239ea794b4"
      },
      "execution_count": null,
      "outputs": [
        {
          "output_type": "stream",
          "name": "stdout",
          "text": [
            "Existem quase 30.000 imóveis com até 10 avaliações. \n",
            "Ou seja, existem muitos imóveis com poucas avaliações.    \n",
            "\n",
            "Veja o histograma abaixo\n",
            "\n"
          ]
        },
        {
          "output_type": "display_data",
          "data": {
            "text/plain": [
              "<Figure size 640x480 with 1 Axes>"
            ],
            "image/png": "[encoded data removed]"
          },
          "metadata": {}
        }
      ]
    }
  ],
  "metadata": {
    "colab": {
      "provenance": [],
      "collapsed_sections": [
        "E-XW5DkykJZs",
        "uUfsLzY3GUM6",
        "WpLcO5YfEAcK",
        "z1H9vTlWpVz7",
        "8RIOxQy9pYNx",
        "4v3GIdONpbD7",
        "nt-lGoQrpeDP",
        "AoLPvFzw38sx"
      ]
    },
    "kernelspec": {
      "display_name": "Python 3",
      "name": "python3"
    },
    "language_info": {
      "name": "python"
    }
  },
  "nbformat": 4,
  "nbformat_minor": 0
}